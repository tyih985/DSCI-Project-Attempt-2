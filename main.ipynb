{
 "cells": [
  {
   "cell_type": "markdown",
   "id": "3f137a0f-1643-461b-988d-631c971402e8",
   "metadata": {},
   "source": [
    "# DSCI Project Proposal - Group 15\n",
    "\n",
    "## Introduction\n",
    "\n",
    "Roughly 17.9 million lives are lost each year due to cardiovascular diseases. Heart activity such as heart rate and resting ECG results can be used to detect cardiovascular diseases. For this project, we want to use the dataset “Heart Failure Prediction Dataset” to answer our question:\n",
    "\n",
    "***Does heart activity accurately predict whether a person is at risk of heart disease?***\n",
    "\n",
    "This dataset is a combination of independent datasets from hospitals in Hungary, Switzerland, and the United States of America. The dataset in its entirety includes eleven variables that can be used to predict heart disease. However, in our project, we will solely focus on the resting ECG results and the maximum heart rate achieved because we want to know if heart activity alone is an accurate predictor for cardiovascular diseases.\n",
    "\n",
    "#### *Observations in dataset:*\n",
    "\n",
    "* Age: age of the patient [years]\n",
    "* Sex: sex of the patient [M: Male, F: Female]\n",
    "* ChestPainType: chest pain type [TA: Typical Angina, ATA: Atypical Angina, NAP: Non-Anginal Pain, ASY: Asymptomatic]\n",
    "* RestingBP: resting blood pressure [mm Hg]\n",
    "* Cholesterol: serum cholesterol [mm/dl]\n",
    "* FastingBS: fasting blood sugar [1: if FastingBS > 120 mg/dl, 0: otherwise]\n",
    "* RestingECG: resting electrocardiogram results [Normal: Normal, ST: having ST-T wave abnormality (T wave inversions and/or ST  elevation or depression of > 0.05 mV), LVH: showing probable or definite left ventricular hypertrophy by Estes' criteria]\n",
    "* MaxHR: maximum heart rate achieved [Numeric value between 60 and 202]\n",
    "* ExerciseAngina: exercise-induced angina [Y: Yes, N: No]\n",
    "* Oldpeak: oldpeak = ST [Numeric value measured in depression]\n",
    "* ST_Slope: the slope of the peak exercise ST segment [Up: upsloping, Flat: flat, Down: downsloping]\n",
    "* HeartDisease: output class [1: heart disease, 0: Normal] "
   ]
  },
  {
   "cell_type": "markdown",
   "id": "2e915564-472d-4716-b3fd-cb03f51decbf",
   "metadata": {
    "tags": []
   },
   "source": [
    "## Preliminary Exploratory Data Analysis\n",
    "\n",
    "#### *Reading the data set:*"
   ]
  },
  {
   "cell_type": "code",
   "execution_count": 43,
   "id": "bf870a7b-272d-4f5b-8c80-00f67fa53021",
   "metadata": {
    "tags": []
   },
   "outputs": [],
   "source": [
    "library(tidyverse)\n",
    "library(repr)\n",
    "library(tidymodels)\n",
    "\n",
    "set.seed(9999)"
   ]
  },
  {
   "cell_type": "code",
   "execution_count": 44,
   "id": "01b97e23-f14e-41d8-a2fe-60931eb273ff",
   "metadata": {},
   "outputs": [
    {
     "name": "stderr",
     "output_type": "stream",
     "text": [
      "\u001b[1mRows: \u001b[22m\u001b[34m918\u001b[39m \u001b[1mColumns: \u001b[22m\u001b[34m12\u001b[39m\n",
      "\u001b[36m──\u001b[39m \u001b[1mColumn specification\u001b[22m \u001b[36m────────────────────────────────────────────────────────\u001b[39m\n",
      "\u001b[1mDelimiter:\u001b[22m \",\"\n",
      "\u001b[31mchr\u001b[39m (5): Sex, ChestPainType, RestingECG, ExerciseAngina, ST_Slope\n",
      "\u001b[32mdbl\u001b[39m (7): Age, RestingBP, Cholesterol, FastingBS, MaxHR, Oldpeak, HeartDisease\n",
      "\n",
      "\u001b[36mℹ\u001b[39m Use `spec()` to retrieve the full column specification for this data.\n",
      "\u001b[36mℹ\u001b[39m Specify the column types or set `show_col_types = FALSE` to quiet this message.\n"
     ]
    },
    {
     "data": {
      "text/html": [
       "<table class=\"dataframe\">\n",
       "<caption>A spec_tbl_df: 918 × 12</caption>\n",
       "<thead>\n",
       "\t<tr><th scope=col>Age</th><th scope=col>Sex</th><th scope=col>ChestPainType</th><th scope=col>RestingBP</th><th scope=col>Cholesterol</th><th scope=col>FastingBS</th><th scope=col>RestingECG</th><th scope=col>MaxHR</th><th scope=col>ExerciseAngina</th><th scope=col>Oldpeak</th><th scope=col>ST_Slope</th><th scope=col>HeartDisease</th></tr>\n",
       "\t<tr><th scope=col>&lt;dbl&gt;</th><th scope=col>&lt;chr&gt;</th><th scope=col>&lt;chr&gt;</th><th scope=col>&lt;dbl&gt;</th><th scope=col>&lt;dbl&gt;</th><th scope=col>&lt;dbl&gt;</th><th scope=col>&lt;chr&gt;</th><th scope=col>&lt;dbl&gt;</th><th scope=col>&lt;chr&gt;</th><th scope=col>&lt;dbl&gt;</th><th scope=col>&lt;chr&gt;</th><th scope=col>&lt;dbl&gt;</th></tr>\n",
       "</thead>\n",
       "<tbody>\n",
       "\t<tr><td>40</td><td>M</td><td>ATA</td><td>140</td><td>289</td><td>0</td><td>Normal</td><td>172</td><td>N</td><td>0</td><td>Up  </td><td>0</td></tr>\n",
       "\t<tr><td>49</td><td>F</td><td>NAP</td><td>160</td><td>180</td><td>0</td><td>Normal</td><td>156</td><td>N</td><td>1</td><td>Flat</td><td>1</td></tr>\n",
       "\t<tr><td>37</td><td>M</td><td>ATA</td><td>130</td><td>283</td><td>0</td><td>ST    </td><td> 98</td><td>N</td><td>0</td><td>Up  </td><td>0</td></tr>\n",
       "\t<tr><td>⋮</td><td>⋮</td><td>⋮</td><td>⋮</td><td>⋮</td><td>⋮</td><td>⋮</td><td>⋮</td><td>⋮</td><td>⋮</td><td>⋮</td><td>⋮</td></tr>\n",
       "\t<tr><td>57</td><td>M</td><td>ASY</td><td>130</td><td>131</td><td>0</td><td>Normal</td><td>115</td><td>Y</td><td>1.2</td><td>Flat</td><td>1</td></tr>\n",
       "\t<tr><td>57</td><td>F</td><td>ATA</td><td>130</td><td>236</td><td>0</td><td>LVH   </td><td>174</td><td>N</td><td>0.0</td><td>Flat</td><td>1</td></tr>\n",
       "\t<tr><td>38</td><td>M</td><td>NAP</td><td>138</td><td>175</td><td>0</td><td>Normal</td><td>173</td><td>N</td><td>0.0</td><td>Up  </td><td>0</td></tr>\n",
       "</tbody>\n",
       "</table>\n"
      ],
      "text/latex": [
       "A spec\\_tbl\\_df: 918 × 12\n",
       "\\begin{tabular}{llllllllllll}\n",
       " Age & Sex & ChestPainType & RestingBP & Cholesterol & FastingBS & RestingECG & MaxHR & ExerciseAngina & Oldpeak & ST\\_Slope & HeartDisease\\\\\n",
       " <dbl> & <chr> & <chr> & <dbl> & <dbl> & <dbl> & <chr> & <dbl> & <chr> & <dbl> & <chr> & <dbl>\\\\\n",
       "\\hline\n",
       "\t 40 & M & ATA & 140 & 289 & 0 & Normal & 172 & N & 0 & Up   & 0\\\\\n",
       "\t 49 & F & NAP & 160 & 180 & 0 & Normal & 156 & N & 1 & Flat & 1\\\\\n",
       "\t 37 & M & ATA & 130 & 283 & 0 & ST     &  98 & N & 0 & Up   & 0\\\\\n",
       "\t ⋮ & ⋮ & ⋮ & ⋮ & ⋮ & ⋮ & ⋮ & ⋮ & ⋮ & ⋮ & ⋮ & ⋮\\\\\n",
       "\t 57 & M & ASY & 130 & 131 & 0 & Normal & 115 & Y & 1.2 & Flat & 1\\\\\n",
       "\t 57 & F & ATA & 130 & 236 & 0 & LVH    & 174 & N & 0.0 & Flat & 1\\\\\n",
       "\t 38 & M & NAP & 138 & 175 & 0 & Normal & 173 & N & 0.0 & Up   & 0\\\\\n",
       "\\end{tabular}\n"
      ],
      "text/markdown": [
       "\n",
       "A spec_tbl_df: 918 × 12\n",
       "\n",
       "| Age &lt;dbl&gt; | Sex &lt;chr&gt; | ChestPainType &lt;chr&gt; | RestingBP &lt;dbl&gt; | Cholesterol &lt;dbl&gt; | FastingBS &lt;dbl&gt; | RestingECG &lt;chr&gt; | MaxHR &lt;dbl&gt; | ExerciseAngina &lt;chr&gt; | Oldpeak &lt;dbl&gt; | ST_Slope &lt;chr&gt; | HeartDisease &lt;dbl&gt; |\n",
       "|---|---|---|---|---|---|---|---|---|---|---|---|\n",
       "| 40 | M | ATA | 140 | 289 | 0 | Normal | 172 | N | 0 | Up   | 0 |\n",
       "| 49 | F | NAP | 160 | 180 | 0 | Normal | 156 | N | 1 | Flat | 1 |\n",
       "| 37 | M | ATA | 130 | 283 | 0 | ST     |  98 | N | 0 | Up   | 0 |\n",
       "| ⋮ | ⋮ | ⋮ | ⋮ | ⋮ | ⋮ | ⋮ | ⋮ | ⋮ | ⋮ | ⋮ | ⋮ |\n",
       "| 57 | M | ASY | 130 | 131 | 0 | Normal | 115 | Y | 1.2 | Flat | 1 |\n",
       "| 57 | F | ATA | 130 | 236 | 0 | LVH    | 174 | N | 0.0 | Flat | 1 |\n",
       "| 38 | M | NAP | 138 | 175 | 0 | Normal | 173 | N | 0.0 | Up   | 0 |\n",
       "\n"
      ],
      "text/plain": [
       "    Age Sex ChestPainType RestingBP Cholesterol FastingBS RestingECG MaxHR\n",
       "1   40  M   ATA           140       289         0         Normal     172  \n",
       "2   49  F   NAP           160       180         0         Normal     156  \n",
       "3   37  M   ATA           130       283         0         ST          98  \n",
       "⋮   ⋮   ⋮   ⋮             ⋮         ⋮           ⋮         ⋮          ⋮    \n",
       "916 57  M   ASY           130       131         0         Normal     115  \n",
       "917 57  F   ATA           130       236         0         LVH        174  \n",
       "918 38  M   NAP           138       175         0         Normal     173  \n",
       "    ExerciseAngina Oldpeak ST_Slope HeartDisease\n",
       "1   N              0       Up       0           \n",
       "2   N              1       Flat     1           \n",
       "3   N              0       Up       0           \n",
       "⋮   ⋮              ⋮       ⋮        ⋮           \n",
       "916 Y              1.2     Flat     1           \n",
       "917 N              0.0     Flat     1           \n",
       "918 N              0.0     Up       0           "
      ]
     },
     "metadata": {},
     "output_type": "display_data"
    }
   ],
   "source": [
    "heart_data <- read_csv(\"https://raw.githubusercontent.com/tyih985/DSCI-Project-Attempt-2/main/heart.csv\")\n",
    "\n",
    "heart_data"
   ]
  },
  {
   "cell_type": "markdown",
   "id": "93cfbf9d-55b6-4d2b-92a8-55f8024d5bfb",
   "metadata": {},
   "source": [
    "#### *Cleaning and wrangling the data set:*"
   ]
  },
  {
   "cell_type": "code",
   "execution_count": 45,
   "id": "87aa3ab5-ba7c-408d-a194-eb98166c07d5",
   "metadata": {
    "tags": []
   },
   "outputs": [
    {
     "data": {
      "text/html": [
       "<table class=\"dataframe\">\n",
       "<caption>A tibble: 918 × 3</caption>\n",
       "<thead>\n",
       "\t<tr><th scope=col>resting_bp</th><th scope=col>max_hr</th><th scope=col>heart_disease</th></tr>\n",
       "\t<tr><th scope=col>&lt;dbl&gt;</th><th scope=col>&lt;dbl&gt;</th><th scope=col>&lt;fct&gt;</th></tr>\n",
       "</thead>\n",
       "<tbody>\n",
       "\t<tr><td>140</td><td>172</td><td>no </td></tr>\n",
       "\t<tr><td>160</td><td>156</td><td>yes</td></tr>\n",
       "\t<tr><td>130</td><td> 98</td><td>no </td></tr>\n",
       "\t<tr><td>⋮</td><td>⋮</td><td>⋮</td></tr>\n",
       "\t<tr><td>130</td><td>115</td><td>yes</td></tr>\n",
       "\t<tr><td>130</td><td>174</td><td>yes</td></tr>\n",
       "\t<tr><td>138</td><td>173</td><td>no </td></tr>\n",
       "</tbody>\n",
       "</table>\n"
      ],
      "text/latex": [
       "A tibble: 918 × 3\n",
       "\\begin{tabular}{lll}\n",
       " resting\\_bp & max\\_hr & heart\\_disease\\\\\n",
       " <dbl> & <dbl> & <fct>\\\\\n",
       "\\hline\n",
       "\t 140 & 172 & no \\\\\n",
       "\t 160 & 156 & yes\\\\\n",
       "\t 130 &  98 & no \\\\\n",
       "\t ⋮ & ⋮ & ⋮\\\\\n",
       "\t 130 & 115 & yes\\\\\n",
       "\t 130 & 174 & yes\\\\\n",
       "\t 138 & 173 & no \\\\\n",
       "\\end{tabular}\n"
      ],
      "text/markdown": [
       "\n",
       "A tibble: 918 × 3\n",
       "\n",
       "| resting_bp &lt;dbl&gt; | max_hr &lt;dbl&gt; | heart_disease &lt;fct&gt; |\n",
       "|---|---|---|\n",
       "| 140 | 172 | no  |\n",
       "| 160 | 156 | yes |\n",
       "| 130 |  98 | no  |\n",
       "| ⋮ | ⋮ | ⋮ |\n",
       "| 130 | 115 | yes |\n",
       "| 130 | 174 | yes |\n",
       "| 138 | 173 | no  |\n",
       "\n"
      ],
      "text/plain": [
       "    resting_bp max_hr heart_disease\n",
       "1   140        172    no           \n",
       "2   160        156    yes          \n",
       "3   130         98    no           \n",
       "⋮   ⋮          ⋮      ⋮            \n",
       "916 130        115    yes          \n",
       "917 130        174    yes          \n",
       "918 138        173    no           "
      ]
     },
     "metadata": {},
     "output_type": "display_data"
    }
   ],
   "source": [
    "heart_data_cleaned <- heart_data |> rename(resting_bp = RestingBP, max_hr = MaxHR, heart_disease = HeartDisease) |>\n",
    "                                    select(resting_bp, max_hr, heart_disease) |>\n",
    "                                    mutate(heart_disease = as_factor(heart_disease)) |>\n",
    "                                    mutate(heart_disease = fct_recode(heart_disease, \"yes\" = \"1\", \"no\" = \"0\"))\n",
    "\n",
    "heart_data_cleaned"
   ]
  },
  {
   "cell_type": "markdown",
   "id": "633073b4-5959-454e-bbcc-1ca8ae0bf863",
   "metadata": {},
   "source": [
    "#### *Summarizing the data set:*"
   ]
  },
  {
   "cell_type": "code",
   "execution_count": 46,
   "id": "8d90aefb-4834-4465-803c-17ba9cb7d6ba",
   "metadata": {},
   "outputs": [],
   "source": [
    "# code"
   ]
  },
  {
   "cell_type": "markdown",
   "id": "95a3df52-eb46-4127-a279-9f1bf8b0aaad",
   "metadata": {},
   "source": [
    "#### *Visualizing the data set:*"
   ]
  },
  {
   "cell_type": "code",
   "execution_count": 47,
   "id": "8d35a6c4-42cf-46e2-a086-96a860b30272",
   "metadata": {},
   "outputs": [],
   "source": [
    "# code"
   ]
  },
  {
   "cell_type": "markdown",
   "id": "a58ccf5e-eb51-44fa-81cd-bbf3fd40275f",
   "metadata": {},
   "source": [
    "## Methods\n",
    "\n",
    "The values from the selected columns (RestingECG and MaxHR) will be used in our analysis because these observations are directly monitored by heart activity, rather than other observations that are monitored by bodily fluids such as cholesterol. Using these two predictors, we will create a classification model by using K-nearest neighbors algorithm to predict whether a person is at risk of heart disease. To visualize these results, we will use scatter plots and include human readable legends and axes, shapes, and color to distinguish the classes. "
   ]
  },
  {
   "cell_type": "markdown",
   "id": "dd29371e-1cec-4bb2-b6bd-f3566af73001",
   "metadata": {},
   "source": [
    "## Expected outcomes and significance:\n",
    "\n",
    "#### *What do we expect to find?*\n",
    "\n",
    "words\n",
    "\n",
    "#### *What impact could such findings have?*\n",
    "\n",
    "words\n",
    "\n",
    "#### *What future questions could this lead to?*\n",
    "\n",
    "words"
   ]
  }
 ],
 "metadata": {
  "kernelspec": {
   "display_name": "R",
   "language": "R",
   "name": "ir"
  },
  "language_info": {
   "codemirror_mode": "r",
   "file_extension": ".r",
   "mimetype": "text/x-r-source",
   "name": "R",
   "pygments_lexer": "r",
   "version": "4.2.2"
  }
 },
 "nbformat": 4,
 "nbformat_minor": 5
}
